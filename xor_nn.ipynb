{
  "nbformat": 4,
  "nbformat_minor": 0,
  "metadata": {
    "colab": {
      "name": "xor_nn.ipynb",
      "provenance": [],
      "collapsed_sections": [],
      "authorship_tag": "ABX9TyNUpwka0LudWczVcsbJszZZ",
      "include_colab_link": true
    },
    "kernelspec": {
      "name": "python3",
      "display_name": "Python 3"
    },
    "language_info": {
      "name": "python"
    }
  },
  "cells": [
    {
      "cell_type": "markdown",
      "metadata": {
        "id": "view-in-github",
        "colab_type": "text"
      },
      "source": [
        "<a href=\"https://colab.research.google.com/github/hoky1227/Others/blob/main/xor_nn.ipynb\" target=\"_parent\"><img src=\"https://colab.research.google.com/assets/colab-badge.svg\" alt=\"Open In Colab\"/></a>"
      ]
    },
    {
      "cell_type": "code",
      "metadata": {
        "id": "9eRc3jeUF5hd",
        "colab": {
          "base_uri": "https://localhost:8080/"
        },
        "outputId": "71c235c3-d9b8-4641-a854-fec55f2766c6"
      },
      "source": [
        "from numpy import random\n",
        "import numpy as np\n",
        "\n",
        "\n",
        "\n",
        "def sigmoid(x):\n",
        "    return 1/(1 + np.exp(-x))\n",
        "\n",
        "def relu(x):\n",
        "    if x >= 0:\n",
        "        return x\n",
        "    else: return 0\n",
        "\n",
        "def stepf(x):\n",
        "    if x >= 0: # Let y == 1 if x == 0\n",
        "        return 1\n",
        "    else: return 0\n",
        "\n",
        "def xor_nn(alist, alpha, epochs, momentum, actfn):\n",
        "\n",
        "# '''alist must be list, returns are \\[MSE, w1, w2, w34 ,threshold3, threshold4, w1_delta, w2_delta, w34_delta, threshold3_delta, threshold4_delta\\]'''\n",
        "\n",
        "    def gradient(O):\n",
        "        if actfn == sigmoid:\n",
        "            grad = O * (1 - O)\n",
        "        else:\n",
        "            grad = 1\n",
        "        return grad\n",
        "\n",
        "    def delta_rule(err, O, x):\n",
        "        return alpha * err * gradient(O) * x\n",
        "\n",
        "    w1 = random.rand(2, 1)\n",
        "    w2 = random.rand(2, 1)\n",
        "    w34 = random.rand()\n",
        "    threshold3 = random.rand()\n",
        "    threshold4 = random.rand()\n",
        "\n",
        "    threshold3_delta = 0\n",
        "    threshold4_delta = 0\n",
        "    w34_delta = 0\n",
        "    w1_delta = np.zeros([2, 1])\n",
        "    w2_delta = np.zeros([2, 1])\n",
        "\n",
        "    for epoch in range(epochs):\n",
        "\n",
        "        error_sum = 0\n",
        "\n",
        "        for v in alist:\n",
        "            x = np.array(v[:2]).reshape([2, 1])\n",
        "            out = np.array(v[-1])\n",
        "\n",
        "            sum3 = x.T @ w1 + threshold3 * (-1)\n",
        "            out3 = actfn(sum3)\n",
        "\n",
        "            sum4 = x.T @ w2 + out3 * w34 + threshold4 * (-1)\n",
        "            out4 = actfn(sum4)\n",
        "\n",
        "            error4 = out - out4\n",
        "            error_sum += error4 * error4\n",
        "\n",
        "            w2_delta = delta_rule(error4, out4, x) + momentum * w2_delta\n",
        "            w2 += w2_delta\n",
        "            threshold4_delta = delta_rule(error4, out4, -1) + momentum * threshold4_delta\n",
        "            threshold4 += threshold4_delta\n",
        "            error3 = error4 * gradient(out4) * w34\n",
        "\n",
        "\n",
        "            w1_delta = delta_rule(error3, out3, x) + momentum * w1_delta\n",
        "            w1 += w1_delta\n",
        "            threshold3_delta = delta_rule(error3, out3, -1) + momentum * threshold3_delta\n",
        "            threshold3 += threshold3_delta\n",
        "\n",
        "        #Weight updated\n",
        "\n",
        "        MSE = error_sum / len(alist)\n",
        "        # print(f'Epochs = {epoch}, MSE = {MSE}')\n",
        "        #Early stopping\n",
        "        if MSE <= 0.25:\n",
        "            print(f'Epochs = {epoch}, MSE = {MSE}')\n",
        "            break\n",
        "\n",
        "    # return MSE\n",
        "    return [MSE, w1, w2, w34 ,threshold3, threshold4, w1_delta, w2_delta, w34_delta, threshold3_delta, threshold4_delta]\n",
        "\n",
        "\n",
        "alist = [[1,1,0], [1,0,1], [0,1,1], [0,0,0]]\n",
        "\n",
        "\n",
        "xor_nn(alist, 0.11, 20000, 0, relu)[0]"
      ],
      "execution_count": 1,
      "outputs": [
        {
          "output_type": "execute_result",
          "data": {
            "text/plain": [
              "array([[0.31561672]])"
            ]
          },
          "metadata": {
            "tags": []
          },
          "execution_count": 1
        }
      ]
    },
    {
      "cell_type": "code",
      "metadata": {
        "colab": {
          "base_uri": "https://localhost:8080/"
        },
        "id": "tf_TLHjzN1i0",
        "outputId": "85b9e2be-5db4-436e-e49c-11124901f188"
      },
      "source": [
        "xor_nn(alist, 0.11, 20000, 0, sigmoid)[0]"
      ],
      "execution_count": 2,
      "outputs": [
        {
          "output_type": "stream",
          "text": [
            "Epochs = 1163, MSE = [[0.24999818]]\n"
          ],
          "name": "stdout"
        },
        {
          "output_type": "execute_result",
          "data": {
            "text/plain": [
              "array([[0.24999818]])"
            ]
          },
          "metadata": {
            "tags": []
          },
          "execution_count": 2
        }
      ]
    }
  ]
}